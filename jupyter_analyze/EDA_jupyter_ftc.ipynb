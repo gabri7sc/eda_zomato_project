{
 "cells": [
  {
   "cell_type": "markdown",
   "id": "376bc519",
   "metadata": {},
   "source": [
    "# Introduction"
   ]
  },
  {
   "cell_type": "markdown",
   "id": "f55b1dc6",
   "metadata": {},
   "source": [
    "This Project is based on a problem about a Restaurant Market place called Zomato, this company is an intermediate between customers and restaurants.\n",
    "\n",
    "As a study case, we were hired to help the new CEO to understand how Zomato numbers are going, He sent to us a list of question that must be answered as soon as possible in an online dashboard to show a visual knowledge from the data for a better understanding.\n"
   ]
  },
  {
   "cell_type": "markdown",
   "id": "d61d260b",
   "metadata": {},
   "source": [
    "## Imports"
   ]
  },
  {
   "cell_type": "code",
   "execution_count": 1,
   "id": "614a88a5",
   "metadata": {
    "ExecuteTime": {
     "end_time": "2024-02-20T23:48:33.929756Z",
     "start_time": "2024-02-20T23:48:29.023321Z"
    }
   },
   "outputs": [],
   "source": [
    "from IPython.core.display   import HTML\n",
    "from forex_python.converter import CurrencyRates\n",
    "from datetime               import datetime\n",
    "from folium.plugins         import MarkerCluster, ScrollZoomToggler\n",
    "from folium.map             import LayerControl\n",
    "\n",
    "import numpy                as np\n",
    "import pandas               as pd\n",
    "import seaborn              as sns\n",
    "import matplotlib.pyplot    as plt\n",
    "import plotly.express       as px\n",
    "import plotly.graph_objects as go\n",
    "import inflection\n",
    "import folium\n"
   ]
  },
  {
   "cell_type": "markdown",
   "id": "d9e7c986",
   "metadata": {},
   "source": [
    "## Useful Functions"
   ]
  },
  {
   "cell_type": "code",
   "execution_count": 2,
   "id": "805c7193",
   "metadata": {
    "ExecuteTime": {
     "end_time": "2024-02-20T23:48:58.925960Z",
     "start_time": "2024-02-20T23:48:33.935759Z"
    }
   },
   "outputs": [
    {
     "name": "stdout",
     "output_type": "stream",
     "text": [
      "%pylab is deprecated, use %matplotlib inline and import the required libraries.\n",
      "Populating the interactive namespace from numpy and matplotlib\n"
     ]
    },
    {
     "name": "stderr",
     "output_type": "stream",
     "text": [
      "C:\\Users\\gabre\\anaconda3\\envs\\exercises_1\\lib\\site-packages\\IPython\\core\\magics\\pylab.py:162: UserWarning: pylab import has clobbered these variables: ['datetime']\n",
      "`%matplotlib` prevents importing * from pylab and numpy\n",
      "  warn(\"pylab import has clobbered these variables: %s\"  % clobbered +\n"
     ]
    },
    {
     "data": {
      "text/html": [
       "<style>.container { width:100% !important; }</style>"
      ],
      "text/plain": [
       "<IPython.core.display.HTML object>"
      ]
     },
     "metadata": {},
     "output_type": "display_data"
    },
    {
     "ename": "ConnectionError",
     "evalue": "HTTPSConnectionPool(host='theforexapi.com', port=443): Max retries exceeded with url: /api/latest?base=EUR&symbols=USD&rtype=fpy (Caused by NewConnectionError('<urllib3.connection.HTTPSConnection object at 0x000001ACE2966040>: Failed to establish a new connection: [WinError 10060] Uma tentativa de conexão falhou porque o componente conectado não respondeu\\r\\ncorretamente após um período de tempo ou a conexão estabelecida falhou\\r\\nporque o host conectado não respondeu'))",
     "output_type": "error",
     "traceback": [
      "\u001b[1;31m---------------------------------------------------------------------------\u001b[0m",
      "\u001b[1;31mTimeoutError\u001b[0m                              Traceback (most recent call last)",
      "File \u001b[1;32m~\\anaconda3\\envs\\exercises_1\\lib\\site-packages\\urllib3\\connection.py:174\u001b[0m, in \u001b[0;36mHTTPConnection._new_conn\u001b[1;34m(self)\u001b[0m\n\u001b[0;32m    173\u001b[0m \u001b[38;5;28;01mtry\u001b[39;00m:\n\u001b[1;32m--> 174\u001b[0m     conn \u001b[38;5;241m=\u001b[39m \u001b[43mconnection\u001b[49m\u001b[38;5;241;43m.\u001b[39;49m\u001b[43mcreate_connection\u001b[49m\u001b[43m(\u001b[49m\n\u001b[0;32m    175\u001b[0m \u001b[43m        \u001b[49m\u001b[43m(\u001b[49m\u001b[38;5;28;43mself\u001b[39;49m\u001b[38;5;241;43m.\u001b[39;49m\u001b[43m_dns_host\u001b[49m\u001b[43m,\u001b[49m\u001b[43m \u001b[49m\u001b[38;5;28;43mself\u001b[39;49m\u001b[38;5;241;43m.\u001b[39;49m\u001b[43mport\u001b[49m\u001b[43m)\u001b[49m\u001b[43m,\u001b[49m\u001b[43m \u001b[49m\u001b[38;5;28;43mself\u001b[39;49m\u001b[38;5;241;43m.\u001b[39;49m\u001b[43mtimeout\u001b[49m\u001b[43m,\u001b[49m\u001b[43m \u001b[49m\u001b[38;5;241;43m*\u001b[39;49m\u001b[38;5;241;43m*\u001b[39;49m\u001b[43mextra_kw\u001b[49m\n\u001b[0;32m    176\u001b[0m \u001b[43m    \u001b[49m\u001b[43m)\u001b[49m\n\u001b[0;32m    178\u001b[0m \u001b[38;5;28;01mexcept\u001b[39;00m SocketTimeout:\n",
      "File \u001b[1;32m~\\anaconda3\\envs\\exercises_1\\lib\\site-packages\\urllib3\\util\\connection.py:95\u001b[0m, in \u001b[0;36mcreate_connection\u001b[1;34m(address, timeout, source_address, socket_options)\u001b[0m\n\u001b[0;32m     94\u001b[0m \u001b[38;5;28;01mif\u001b[39;00m err \u001b[38;5;129;01mis\u001b[39;00m \u001b[38;5;129;01mnot\u001b[39;00m \u001b[38;5;28;01mNone\u001b[39;00m:\n\u001b[1;32m---> 95\u001b[0m     \u001b[38;5;28;01mraise\u001b[39;00m err\n\u001b[0;32m     97\u001b[0m \u001b[38;5;28;01mraise\u001b[39;00m socket\u001b[38;5;241m.\u001b[39merror(\u001b[38;5;124m\"\u001b[39m\u001b[38;5;124mgetaddrinfo returns an empty list\u001b[39m\u001b[38;5;124m\"\u001b[39m)\n",
      "File \u001b[1;32m~\\anaconda3\\envs\\exercises_1\\lib\\site-packages\\urllib3\\util\\connection.py:85\u001b[0m, in \u001b[0;36mcreate_connection\u001b[1;34m(address, timeout, source_address, socket_options)\u001b[0m\n\u001b[0;32m     84\u001b[0m     sock\u001b[38;5;241m.\u001b[39mbind(source_address)\n\u001b[1;32m---> 85\u001b[0m \u001b[43msock\u001b[49m\u001b[38;5;241;43m.\u001b[39;49m\u001b[43mconnect\u001b[49m\u001b[43m(\u001b[49m\u001b[43msa\u001b[49m\u001b[43m)\u001b[49m\n\u001b[0;32m     86\u001b[0m \u001b[38;5;28;01mreturn\u001b[39;00m sock\n",
      "\u001b[1;31mTimeoutError\u001b[0m: [WinError 10060] Uma tentativa de conexão falhou porque o componente conectado não respondeu\r\ncorretamente após um período de tempo ou a conexão estabelecida falhou\r\nporque o host conectado não respondeu",
      "\nDuring handling of the above exception, another exception occurred:\n",
      "\u001b[1;31mNewConnectionError\u001b[0m                        Traceback (most recent call last)",
      "File \u001b[1;32m~\\anaconda3\\envs\\exercises_1\\lib\\site-packages\\urllib3\\connectionpool.py:703\u001b[0m, in \u001b[0;36mHTTPConnectionPool.urlopen\u001b[1;34m(self, method, url, body, headers, retries, redirect, assert_same_host, timeout, pool_timeout, release_conn, chunked, body_pos, **response_kw)\u001b[0m\n\u001b[0;32m    702\u001b[0m \u001b[38;5;66;03m# Make the request on the httplib connection object.\u001b[39;00m\n\u001b[1;32m--> 703\u001b[0m httplib_response \u001b[38;5;241m=\u001b[39m \u001b[38;5;28;43mself\u001b[39;49m\u001b[38;5;241;43m.\u001b[39;49m\u001b[43m_make_request\u001b[49m\u001b[43m(\u001b[49m\n\u001b[0;32m    704\u001b[0m \u001b[43m    \u001b[49m\u001b[43mconn\u001b[49m\u001b[43m,\u001b[49m\n\u001b[0;32m    705\u001b[0m \u001b[43m    \u001b[49m\u001b[43mmethod\u001b[49m\u001b[43m,\u001b[49m\n\u001b[0;32m    706\u001b[0m \u001b[43m    \u001b[49m\u001b[43murl\u001b[49m\u001b[43m,\u001b[49m\n\u001b[0;32m    707\u001b[0m \u001b[43m    \u001b[49m\u001b[43mtimeout\u001b[49m\u001b[38;5;241;43m=\u001b[39;49m\u001b[43mtimeout_obj\u001b[49m\u001b[43m,\u001b[49m\n\u001b[0;32m    708\u001b[0m \u001b[43m    \u001b[49m\u001b[43mbody\u001b[49m\u001b[38;5;241;43m=\u001b[39;49m\u001b[43mbody\u001b[49m\u001b[43m,\u001b[49m\n\u001b[0;32m    709\u001b[0m \u001b[43m    \u001b[49m\u001b[43mheaders\u001b[49m\u001b[38;5;241;43m=\u001b[39;49m\u001b[43mheaders\u001b[49m\u001b[43m,\u001b[49m\n\u001b[0;32m    710\u001b[0m \u001b[43m    \u001b[49m\u001b[43mchunked\u001b[49m\u001b[38;5;241;43m=\u001b[39;49m\u001b[43mchunked\u001b[49m\u001b[43m,\u001b[49m\n\u001b[0;32m    711\u001b[0m \u001b[43m\u001b[49m\u001b[43m)\u001b[49m\n\u001b[0;32m    713\u001b[0m \u001b[38;5;66;03m# If we're going to release the connection in ``finally:``, then\u001b[39;00m\n\u001b[0;32m    714\u001b[0m \u001b[38;5;66;03m# the response doesn't need to know about the connection. Otherwise\u001b[39;00m\n\u001b[0;32m    715\u001b[0m \u001b[38;5;66;03m# it will also try to release it and we'll have a double-release\u001b[39;00m\n\u001b[0;32m    716\u001b[0m \u001b[38;5;66;03m# mess.\u001b[39;00m\n",
      "File \u001b[1;32m~\\anaconda3\\envs\\exercises_1\\lib\\site-packages\\urllib3\\connectionpool.py:386\u001b[0m, in \u001b[0;36mHTTPConnectionPool._make_request\u001b[1;34m(self, conn, method, url, timeout, chunked, **httplib_request_kw)\u001b[0m\n\u001b[0;32m    385\u001b[0m \u001b[38;5;28;01mtry\u001b[39;00m:\n\u001b[1;32m--> 386\u001b[0m     \u001b[38;5;28;43mself\u001b[39;49m\u001b[38;5;241;43m.\u001b[39;49m\u001b[43m_validate_conn\u001b[49m\u001b[43m(\u001b[49m\u001b[43mconn\u001b[49m\u001b[43m)\u001b[49m\n\u001b[0;32m    387\u001b[0m \u001b[38;5;28;01mexcept\u001b[39;00m (SocketTimeout, BaseSSLError) \u001b[38;5;28;01mas\u001b[39;00m e:\n\u001b[0;32m    388\u001b[0m     \u001b[38;5;66;03m# Py2 raises this as a BaseSSLError, Py3 raises it as socket timeout.\u001b[39;00m\n",
      "File \u001b[1;32m~\\anaconda3\\envs\\exercises_1\\lib\\site-packages\\urllib3\\connectionpool.py:1042\u001b[0m, in \u001b[0;36mHTTPSConnectionPool._validate_conn\u001b[1;34m(self, conn)\u001b[0m\n\u001b[0;32m   1041\u001b[0m \u001b[38;5;28;01mif\u001b[39;00m \u001b[38;5;129;01mnot\u001b[39;00m \u001b[38;5;28mgetattr\u001b[39m(conn, \u001b[38;5;124m\"\u001b[39m\u001b[38;5;124msock\u001b[39m\u001b[38;5;124m\"\u001b[39m, \u001b[38;5;28;01mNone\u001b[39;00m):  \u001b[38;5;66;03m# AppEngine might not have  `.sock`\u001b[39;00m\n\u001b[1;32m-> 1042\u001b[0m     \u001b[43mconn\u001b[49m\u001b[38;5;241;43m.\u001b[39;49m\u001b[43mconnect\u001b[49m\u001b[43m(\u001b[49m\u001b[43m)\u001b[49m\n\u001b[0;32m   1044\u001b[0m \u001b[38;5;28;01mif\u001b[39;00m \u001b[38;5;129;01mnot\u001b[39;00m conn\u001b[38;5;241m.\u001b[39mis_verified:\n",
      "File \u001b[1;32m~\\anaconda3\\envs\\exercises_1\\lib\\site-packages\\urllib3\\connection.py:358\u001b[0m, in \u001b[0;36mHTTPSConnection.connect\u001b[1;34m(self)\u001b[0m\n\u001b[0;32m    356\u001b[0m \u001b[38;5;28;01mdef\u001b[39;00m \u001b[38;5;21mconnect\u001b[39m(\u001b[38;5;28mself\u001b[39m):\n\u001b[0;32m    357\u001b[0m     \u001b[38;5;66;03m# Add certificate verification\u001b[39;00m\n\u001b[1;32m--> 358\u001b[0m     \u001b[38;5;28mself\u001b[39m\u001b[38;5;241m.\u001b[39msock \u001b[38;5;241m=\u001b[39m conn \u001b[38;5;241m=\u001b[39m \u001b[38;5;28;43mself\u001b[39;49m\u001b[38;5;241;43m.\u001b[39;49m\u001b[43m_new_conn\u001b[49m\u001b[43m(\u001b[49m\u001b[43m)\u001b[49m\n\u001b[0;32m    359\u001b[0m     hostname \u001b[38;5;241m=\u001b[39m \u001b[38;5;28mself\u001b[39m\u001b[38;5;241m.\u001b[39mhost\n",
      "File \u001b[1;32m~\\anaconda3\\envs\\exercises_1\\lib\\site-packages\\urllib3\\connection.py:186\u001b[0m, in \u001b[0;36mHTTPConnection._new_conn\u001b[1;34m(self)\u001b[0m\n\u001b[0;32m    185\u001b[0m \u001b[38;5;28;01mexcept\u001b[39;00m SocketError \u001b[38;5;28;01mas\u001b[39;00m e:\n\u001b[1;32m--> 186\u001b[0m     \u001b[38;5;28;01mraise\u001b[39;00m NewConnectionError(\n\u001b[0;32m    187\u001b[0m         \u001b[38;5;28mself\u001b[39m, \u001b[38;5;124m\"\u001b[39m\u001b[38;5;124mFailed to establish a new connection: \u001b[39m\u001b[38;5;132;01m%s\u001b[39;00m\u001b[38;5;124m\"\u001b[39m \u001b[38;5;241m%\u001b[39m e\n\u001b[0;32m    188\u001b[0m     )\n\u001b[0;32m    190\u001b[0m \u001b[38;5;28;01mreturn\u001b[39;00m conn\n",
      "\u001b[1;31mNewConnectionError\u001b[0m: <urllib3.connection.HTTPSConnection object at 0x000001ACE2966040>: Failed to establish a new connection: [WinError 10060] Uma tentativa de conexão falhou porque o componente conectado não respondeu\r\ncorretamente após um período de tempo ou a conexão estabelecida falhou\r\nporque o host conectado não respondeu",
      "\nDuring handling of the above exception, another exception occurred:\n",
      "\u001b[1;31mMaxRetryError\u001b[0m                             Traceback (most recent call last)",
      "File \u001b[1;32m~\\anaconda3\\envs\\exercises_1\\lib\\site-packages\\requests\\adapters.py:489\u001b[0m, in \u001b[0;36mHTTPAdapter.send\u001b[1;34m(self, request, stream, timeout, verify, cert, proxies)\u001b[0m\n\u001b[0;32m    488\u001b[0m \u001b[38;5;28;01mif\u001b[39;00m \u001b[38;5;129;01mnot\u001b[39;00m chunked:\n\u001b[1;32m--> 489\u001b[0m     resp \u001b[38;5;241m=\u001b[39m \u001b[43mconn\u001b[49m\u001b[38;5;241;43m.\u001b[39;49m\u001b[43murlopen\u001b[49m\u001b[43m(\u001b[49m\n\u001b[0;32m    490\u001b[0m \u001b[43m        \u001b[49m\u001b[43mmethod\u001b[49m\u001b[38;5;241;43m=\u001b[39;49m\u001b[43mrequest\u001b[49m\u001b[38;5;241;43m.\u001b[39;49m\u001b[43mmethod\u001b[49m\u001b[43m,\u001b[49m\n\u001b[0;32m    491\u001b[0m \u001b[43m        \u001b[49m\u001b[43murl\u001b[49m\u001b[38;5;241;43m=\u001b[39;49m\u001b[43murl\u001b[49m\u001b[43m,\u001b[49m\n\u001b[0;32m    492\u001b[0m \u001b[43m        \u001b[49m\u001b[43mbody\u001b[49m\u001b[38;5;241;43m=\u001b[39;49m\u001b[43mrequest\u001b[49m\u001b[38;5;241;43m.\u001b[39;49m\u001b[43mbody\u001b[49m\u001b[43m,\u001b[49m\n\u001b[0;32m    493\u001b[0m \u001b[43m        \u001b[49m\u001b[43mheaders\u001b[49m\u001b[38;5;241;43m=\u001b[39;49m\u001b[43mrequest\u001b[49m\u001b[38;5;241;43m.\u001b[39;49m\u001b[43mheaders\u001b[49m\u001b[43m,\u001b[49m\n\u001b[0;32m    494\u001b[0m \u001b[43m        \u001b[49m\u001b[43mredirect\u001b[49m\u001b[38;5;241;43m=\u001b[39;49m\u001b[38;5;28;43;01mFalse\u001b[39;49;00m\u001b[43m,\u001b[49m\n\u001b[0;32m    495\u001b[0m \u001b[43m        \u001b[49m\u001b[43massert_same_host\u001b[49m\u001b[38;5;241;43m=\u001b[39;49m\u001b[38;5;28;43;01mFalse\u001b[39;49;00m\u001b[43m,\u001b[49m\n\u001b[0;32m    496\u001b[0m \u001b[43m        \u001b[49m\u001b[43mpreload_content\u001b[49m\u001b[38;5;241;43m=\u001b[39;49m\u001b[38;5;28;43;01mFalse\u001b[39;49;00m\u001b[43m,\u001b[49m\n\u001b[0;32m    497\u001b[0m \u001b[43m        \u001b[49m\u001b[43mdecode_content\u001b[49m\u001b[38;5;241;43m=\u001b[39;49m\u001b[38;5;28;43;01mFalse\u001b[39;49;00m\u001b[43m,\u001b[49m\n\u001b[0;32m    498\u001b[0m \u001b[43m        \u001b[49m\u001b[43mretries\u001b[49m\u001b[38;5;241;43m=\u001b[39;49m\u001b[38;5;28;43mself\u001b[39;49m\u001b[38;5;241;43m.\u001b[39;49m\u001b[43mmax_retries\u001b[49m\u001b[43m,\u001b[49m\n\u001b[0;32m    499\u001b[0m \u001b[43m        \u001b[49m\u001b[43mtimeout\u001b[49m\u001b[38;5;241;43m=\u001b[39;49m\u001b[43mtimeout\u001b[49m\u001b[43m,\u001b[49m\n\u001b[0;32m    500\u001b[0m \u001b[43m    \u001b[49m\u001b[43m)\u001b[49m\n\u001b[0;32m    502\u001b[0m \u001b[38;5;66;03m# Send the request.\u001b[39;00m\n\u001b[0;32m    503\u001b[0m \u001b[38;5;28;01melse\u001b[39;00m:\n",
      "File \u001b[1;32m~\\anaconda3\\envs\\exercises_1\\lib\\site-packages\\urllib3\\connectionpool.py:787\u001b[0m, in \u001b[0;36mHTTPConnectionPool.urlopen\u001b[1;34m(self, method, url, body, headers, retries, redirect, assert_same_host, timeout, pool_timeout, release_conn, chunked, body_pos, **response_kw)\u001b[0m\n\u001b[0;32m    785\u001b[0m     e \u001b[38;5;241m=\u001b[39m ProtocolError(\u001b[38;5;124m\"\u001b[39m\u001b[38;5;124mConnection aborted.\u001b[39m\u001b[38;5;124m\"\u001b[39m, e)\n\u001b[1;32m--> 787\u001b[0m retries \u001b[38;5;241m=\u001b[39m \u001b[43mretries\u001b[49m\u001b[38;5;241;43m.\u001b[39;49m\u001b[43mincrement\u001b[49m\u001b[43m(\u001b[49m\n\u001b[0;32m    788\u001b[0m \u001b[43m    \u001b[49m\u001b[43mmethod\u001b[49m\u001b[43m,\u001b[49m\u001b[43m \u001b[49m\u001b[43murl\u001b[49m\u001b[43m,\u001b[49m\u001b[43m \u001b[49m\u001b[43merror\u001b[49m\u001b[38;5;241;43m=\u001b[39;49m\u001b[43me\u001b[49m\u001b[43m,\u001b[49m\u001b[43m \u001b[49m\u001b[43m_pool\u001b[49m\u001b[38;5;241;43m=\u001b[39;49m\u001b[38;5;28;43mself\u001b[39;49m\u001b[43m,\u001b[49m\u001b[43m \u001b[49m\u001b[43m_stacktrace\u001b[49m\u001b[38;5;241;43m=\u001b[39;49m\u001b[43msys\u001b[49m\u001b[38;5;241;43m.\u001b[39;49m\u001b[43mexc_info\u001b[49m\u001b[43m(\u001b[49m\u001b[43m)\u001b[49m\u001b[43m[\u001b[49m\u001b[38;5;241;43m2\u001b[39;49m\u001b[43m]\u001b[49m\n\u001b[0;32m    789\u001b[0m \u001b[43m\u001b[49m\u001b[43m)\u001b[49m\n\u001b[0;32m    790\u001b[0m retries\u001b[38;5;241m.\u001b[39msleep()\n",
      "File \u001b[1;32m~\\anaconda3\\envs\\exercises_1\\lib\\site-packages\\urllib3\\util\\retry.py:592\u001b[0m, in \u001b[0;36mRetry.increment\u001b[1;34m(self, method, url, response, error, _pool, _stacktrace)\u001b[0m\n\u001b[0;32m    591\u001b[0m \u001b[38;5;28;01mif\u001b[39;00m new_retry\u001b[38;5;241m.\u001b[39mis_exhausted():\n\u001b[1;32m--> 592\u001b[0m     \u001b[38;5;28;01mraise\u001b[39;00m MaxRetryError(_pool, url, error \u001b[38;5;129;01mor\u001b[39;00m ResponseError(cause))\n\u001b[0;32m    594\u001b[0m log\u001b[38;5;241m.\u001b[39mdebug(\u001b[38;5;124m\"\u001b[39m\u001b[38;5;124mIncremented Retry for (url=\u001b[39m\u001b[38;5;124m'\u001b[39m\u001b[38;5;132;01m%s\u001b[39;00m\u001b[38;5;124m'\u001b[39m\u001b[38;5;124m): \u001b[39m\u001b[38;5;132;01m%r\u001b[39;00m\u001b[38;5;124m\"\u001b[39m, url, new_retry)\n",
      "\u001b[1;31mMaxRetryError\u001b[0m: HTTPSConnectionPool(host='theforexapi.com', port=443): Max retries exceeded with url: /api/latest?base=EUR&symbols=USD&rtype=fpy (Caused by NewConnectionError('<urllib3.connection.HTTPSConnection object at 0x000001ACE2966040>: Failed to establish a new connection: [WinError 10060] Uma tentativa de conexão falhou porque o componente conectado não respondeu\\r\\ncorretamente após um período de tempo ou a conexão estabelecida falhou\\r\\nporque o host conectado não respondeu'))",
      "\nDuring handling of the above exception, another exception occurred:\n",
      "\u001b[1;31mConnectionError\u001b[0m                           Traceback (most recent call last)",
      "Cell \u001b[1;32mIn[2], line 117\u001b[0m\n\u001b[0;32m    114\u001b[0m \u001b[38;5;66;03m# Example: Convert 100 USD to EUR\u001b[39;00m\n\u001b[0;32m    116\u001b[0m usd_amount \u001b[38;5;241m=\u001b[39m \u001b[38;5;241m1000\u001b[39m\n\u001b[1;32m--> 117\u001b[0m eur_amount \u001b[38;5;241m=\u001b[39m \u001b[43mc\u001b[49m\u001b[38;5;241;43m.\u001b[39;49m\u001b[43mconvert\u001b[49m\u001b[43m(\u001b[49m\u001b[38;5;124;43m'\u001b[39;49m\u001b[38;5;124;43mEUR\u001b[39;49m\u001b[38;5;124;43m'\u001b[39;49m\u001b[43m,\u001b[49m\u001b[43m \u001b[49m\u001b[38;5;124;43m'\u001b[39;49m\u001b[38;5;124;43mUSD\u001b[39;49m\u001b[38;5;124;43m'\u001b[39;49m\u001b[43m,\u001b[49m\u001b[43m \u001b[49m\u001b[43musd_amount\u001b[49m\u001b[43m)\u001b[49m\n\u001b[0;32m    118\u001b[0m \u001b[38;5;28mprint\u001b[39m(\u001b[38;5;124mf\u001b[39m\u001b[38;5;124m\"\u001b[39m\u001b[38;5;132;01m{\u001b[39;00musd_amount\u001b[38;5;132;01m}\u001b[39;00m\u001b[38;5;124m USD is equal to \u001b[39m\u001b[38;5;132;01m{\u001b[39;00meur_amount\u001b[38;5;132;01m}\u001b[39;00m\u001b[38;5;124m EUR\u001b[39m\u001b[38;5;124m\"\u001b[39m)\n",
      "File \u001b[1;32m~\\anaconda3\\envs\\exercises_1\\lib\\site-packages\\forex_python\\converter.py:95\u001b[0m, in \u001b[0;36mCurrencyRates.convert\u001b[1;34m(self, base_cur, dest_cur, amount, date_obj)\u001b[0m\n\u001b[0;32m     93\u001b[0m payload \u001b[38;5;241m=\u001b[39m {\u001b[38;5;124m'\u001b[39m\u001b[38;5;124mbase\u001b[39m\u001b[38;5;124m'\u001b[39m: base_cur, \u001b[38;5;124m'\u001b[39m\u001b[38;5;124msymbols\u001b[39m\u001b[38;5;124m'\u001b[39m: dest_cur, \u001b[38;5;124m'\u001b[39m\u001b[38;5;124mrtype\u001b[39m\u001b[38;5;124m'\u001b[39m: \u001b[38;5;124m'\u001b[39m\u001b[38;5;124mfpy\u001b[39m\u001b[38;5;124m'\u001b[39m}\n\u001b[0;32m     94\u001b[0m source_url \u001b[38;5;241m=\u001b[39m \u001b[38;5;28mself\u001b[39m\u001b[38;5;241m.\u001b[39m_source_url() \u001b[38;5;241m+\u001b[39m date_str\n\u001b[1;32m---> 95\u001b[0m response \u001b[38;5;241m=\u001b[39m \u001b[43mrequests\u001b[49m\u001b[38;5;241;43m.\u001b[39;49m\u001b[43mget\u001b[49m\u001b[43m(\u001b[49m\u001b[43msource_url\u001b[49m\u001b[43m,\u001b[49m\u001b[43m \u001b[49m\u001b[43mparams\u001b[49m\u001b[38;5;241;43m=\u001b[39;49m\u001b[43mpayload\u001b[49m\u001b[43m)\u001b[49m\n\u001b[0;32m     96\u001b[0m \u001b[38;5;28;01mif\u001b[39;00m response\u001b[38;5;241m.\u001b[39mstatus_code \u001b[38;5;241m==\u001b[39m \u001b[38;5;241m200\u001b[39m:\n\u001b[0;32m     97\u001b[0m     rate \u001b[38;5;241m=\u001b[39m \u001b[38;5;28mself\u001b[39m\u001b[38;5;241m.\u001b[39m_get_decoded_rate(\n\u001b[0;32m     98\u001b[0m         response, dest_cur, use_decimal\u001b[38;5;241m=\u001b[39muse_decimal, date_str\u001b[38;5;241m=\u001b[39mdate_str)\n",
      "File \u001b[1;32m~\\anaconda3\\envs\\exercises_1\\lib\\site-packages\\requests\\api.py:73\u001b[0m, in \u001b[0;36mget\u001b[1;34m(url, params, **kwargs)\u001b[0m\n\u001b[0;32m     62\u001b[0m \u001b[38;5;28;01mdef\u001b[39;00m \u001b[38;5;21mget\u001b[39m(url, params\u001b[38;5;241m=\u001b[39m\u001b[38;5;28;01mNone\u001b[39;00m, \u001b[38;5;241m*\u001b[39m\u001b[38;5;241m*\u001b[39mkwargs):\n\u001b[0;32m     63\u001b[0m \u001b[38;5;250m    \u001b[39m\u001b[38;5;124mr\u001b[39m\u001b[38;5;124;03m\"\"\"Sends a GET request.\u001b[39;00m\n\u001b[0;32m     64\u001b[0m \n\u001b[0;32m     65\u001b[0m \u001b[38;5;124;03m    :param url: URL for the new :class:`Request` object.\u001b[39;00m\n\u001b[1;32m   (...)\u001b[0m\n\u001b[0;32m     70\u001b[0m \u001b[38;5;124;03m    :rtype: requests.Response\u001b[39;00m\n\u001b[0;32m     71\u001b[0m \u001b[38;5;124;03m    \"\"\"\u001b[39;00m\n\u001b[1;32m---> 73\u001b[0m     \u001b[38;5;28;01mreturn\u001b[39;00m \u001b[43mrequest\u001b[49m\u001b[43m(\u001b[49m\u001b[38;5;124;43m\"\u001b[39;49m\u001b[38;5;124;43mget\u001b[39;49m\u001b[38;5;124;43m\"\u001b[39;49m\u001b[43m,\u001b[49m\u001b[43m \u001b[49m\u001b[43murl\u001b[49m\u001b[43m,\u001b[49m\u001b[43m \u001b[49m\u001b[43mparams\u001b[49m\u001b[38;5;241;43m=\u001b[39;49m\u001b[43mparams\u001b[49m\u001b[43m,\u001b[49m\u001b[43m \u001b[49m\u001b[38;5;241;43m*\u001b[39;49m\u001b[38;5;241;43m*\u001b[39;49m\u001b[43mkwargs\u001b[49m\u001b[43m)\u001b[49m\n",
      "File \u001b[1;32m~\\anaconda3\\envs\\exercises_1\\lib\\site-packages\\requests\\api.py:59\u001b[0m, in \u001b[0;36mrequest\u001b[1;34m(method, url, **kwargs)\u001b[0m\n\u001b[0;32m     55\u001b[0m \u001b[38;5;66;03m# By using the 'with' statement we are sure the session is closed, thus we\u001b[39;00m\n\u001b[0;32m     56\u001b[0m \u001b[38;5;66;03m# avoid leaving sockets open which can trigger a ResourceWarning in some\u001b[39;00m\n\u001b[0;32m     57\u001b[0m \u001b[38;5;66;03m# cases, and look like a memory leak in others.\u001b[39;00m\n\u001b[0;32m     58\u001b[0m \u001b[38;5;28;01mwith\u001b[39;00m sessions\u001b[38;5;241m.\u001b[39mSession() \u001b[38;5;28;01mas\u001b[39;00m session:\n\u001b[1;32m---> 59\u001b[0m     \u001b[38;5;28;01mreturn\u001b[39;00m \u001b[43msession\u001b[49m\u001b[38;5;241;43m.\u001b[39;49m\u001b[43mrequest\u001b[49m\u001b[43m(\u001b[49m\u001b[43mmethod\u001b[49m\u001b[38;5;241;43m=\u001b[39;49m\u001b[43mmethod\u001b[49m\u001b[43m,\u001b[49m\u001b[43m \u001b[49m\u001b[43murl\u001b[49m\u001b[38;5;241;43m=\u001b[39;49m\u001b[43murl\u001b[49m\u001b[43m,\u001b[49m\u001b[43m \u001b[49m\u001b[38;5;241;43m*\u001b[39;49m\u001b[38;5;241;43m*\u001b[39;49m\u001b[43mkwargs\u001b[49m\u001b[43m)\u001b[49m\n",
      "File \u001b[1;32m~\\anaconda3\\envs\\exercises_1\\lib\\site-packages\\requests\\sessions.py:587\u001b[0m, in \u001b[0;36mSession.request\u001b[1;34m(self, method, url, params, data, headers, cookies, files, auth, timeout, allow_redirects, proxies, hooks, stream, verify, cert, json)\u001b[0m\n\u001b[0;32m    582\u001b[0m send_kwargs \u001b[38;5;241m=\u001b[39m {\n\u001b[0;32m    583\u001b[0m     \u001b[38;5;124m\"\u001b[39m\u001b[38;5;124mtimeout\u001b[39m\u001b[38;5;124m\"\u001b[39m: timeout,\n\u001b[0;32m    584\u001b[0m     \u001b[38;5;124m\"\u001b[39m\u001b[38;5;124mallow_redirects\u001b[39m\u001b[38;5;124m\"\u001b[39m: allow_redirects,\n\u001b[0;32m    585\u001b[0m }\n\u001b[0;32m    586\u001b[0m send_kwargs\u001b[38;5;241m.\u001b[39mupdate(settings)\n\u001b[1;32m--> 587\u001b[0m resp \u001b[38;5;241m=\u001b[39m \u001b[38;5;28;43mself\u001b[39;49m\u001b[38;5;241;43m.\u001b[39;49m\u001b[43msend\u001b[49m\u001b[43m(\u001b[49m\u001b[43mprep\u001b[49m\u001b[43m,\u001b[49m\u001b[43m \u001b[49m\u001b[38;5;241;43m*\u001b[39;49m\u001b[38;5;241;43m*\u001b[39;49m\u001b[43msend_kwargs\u001b[49m\u001b[43m)\u001b[49m\n\u001b[0;32m    589\u001b[0m \u001b[38;5;28;01mreturn\u001b[39;00m resp\n",
      "File \u001b[1;32m~\\anaconda3\\envs\\exercises_1\\lib\\site-packages\\requests\\sessions.py:701\u001b[0m, in \u001b[0;36mSession.send\u001b[1;34m(self, request, **kwargs)\u001b[0m\n\u001b[0;32m    698\u001b[0m start \u001b[38;5;241m=\u001b[39m preferred_clock()\n\u001b[0;32m    700\u001b[0m \u001b[38;5;66;03m# Send the request\u001b[39;00m\n\u001b[1;32m--> 701\u001b[0m r \u001b[38;5;241m=\u001b[39m \u001b[43madapter\u001b[49m\u001b[38;5;241;43m.\u001b[39;49m\u001b[43msend\u001b[49m\u001b[43m(\u001b[49m\u001b[43mrequest\u001b[49m\u001b[43m,\u001b[49m\u001b[43m \u001b[49m\u001b[38;5;241;43m*\u001b[39;49m\u001b[38;5;241;43m*\u001b[39;49m\u001b[43mkwargs\u001b[49m\u001b[43m)\u001b[49m\n\u001b[0;32m    703\u001b[0m \u001b[38;5;66;03m# Total elapsed time of the request (approximately)\u001b[39;00m\n\u001b[0;32m    704\u001b[0m elapsed \u001b[38;5;241m=\u001b[39m preferred_clock() \u001b[38;5;241m-\u001b[39m start\n",
      "File \u001b[1;32m~\\anaconda3\\envs\\exercises_1\\lib\\site-packages\\requests\\adapters.py:565\u001b[0m, in \u001b[0;36mHTTPAdapter.send\u001b[1;34m(self, request, stream, timeout, verify, cert, proxies)\u001b[0m\n\u001b[0;32m    561\u001b[0m     \u001b[38;5;28;01mif\u001b[39;00m \u001b[38;5;28misinstance\u001b[39m(e\u001b[38;5;241m.\u001b[39mreason, _SSLError):\n\u001b[0;32m    562\u001b[0m         \u001b[38;5;66;03m# This branch is for urllib3 v1.22 and later.\u001b[39;00m\n\u001b[0;32m    563\u001b[0m         \u001b[38;5;28;01mraise\u001b[39;00m SSLError(e, request\u001b[38;5;241m=\u001b[39mrequest)\n\u001b[1;32m--> 565\u001b[0m     \u001b[38;5;28;01mraise\u001b[39;00m \u001b[38;5;167;01mConnectionError\u001b[39;00m(e, request\u001b[38;5;241m=\u001b[39mrequest)\n\u001b[0;32m    567\u001b[0m \u001b[38;5;28;01mexcept\u001b[39;00m ClosedPoolError \u001b[38;5;28;01mas\u001b[39;00m e:\n\u001b[0;32m    568\u001b[0m     \u001b[38;5;28;01mraise\u001b[39;00m \u001b[38;5;167;01mConnectionError\u001b[39;00m(e, request\u001b[38;5;241m=\u001b[39mrequest)\n",
      "\u001b[1;31mConnectionError\u001b[0m: HTTPSConnectionPool(host='theforexapi.com', port=443): Max retries exceeded with url: /api/latest?base=EUR&symbols=USD&rtype=fpy (Caused by NewConnectionError('<urllib3.connection.HTTPSConnection object at 0x000001ACE2966040>: Failed to establish a new connection: [WinError 10060] Uma tentativa de conexão falhou porque o componente conectado não respondeu\\r\\ncorretamente após um período de tempo ou a conexão estabelecida falhou\\r\\nporque o host conectado não respondeu'))"
     ]
    }
   ],
   "source": [
    "# This Function create a better visual set to Jupyter\n",
    "\n",
    "def jupyter_settings():\n",
    "    %matplotlib inline\n",
    "    %pylab inline\n",
    "    \n",
    "    plt.style.use( 'bmh' )\n",
    "    plt.rcParams['figure.figsize'] = [25, 12]\n",
    "    plt.rcParams['font.size'] = 24\n",
    "    \n",
    "    display( HTML( '<style>.container { width:100% !important; }</style>') )\n",
    "    pd.options.display.max_columns = None\n",
    "    pd.options.display.max_rows = None\n",
    "    pd.set_option( 'display.expand_frame_repr', False )\n",
    "    \n",
    "    sns.set()\n",
    "\n",
    "jupyter_settings()\n",
    "\n",
    "# Fulfill the the country names with the matching ID\n",
    "\n",
    "countries = {\n",
    "    1:'India',\n",
    "    14:'Australia',\n",
    "    30:'Brazil',\n",
    "    37:'Canada',\n",
    "    94:'Indonesia',\n",
    "    148:'New Zeland',\n",
    "    162:'Philippines',\n",
    "    166:'Qatar',\n",
    "    184:'Singapure',\n",
    "    189:'South Africa',\n",
    "    191:'Sri Lanka',\n",
    "    208:'Turkey',\n",
    "    214:'United Arab Emirates',\n",
    "    215:'England',\n",
    "    216:'United States of America'\n",
    "}\n",
    "\n",
    "def country_name( country_id ):\n",
    "    return countries[country_id]\n",
    "\n",
    "# Create food type\n",
    "\n",
    "def price_type( price_range ):\n",
    "    if price_range == 1:\n",
    "        return 'cheap'\n",
    "    elif price_range == 2:\n",
    "        return 'normal'\n",
    "    elif price_range == 3:\n",
    "        return 'expensive'\n",
    "    else:\n",
    "        return 'gourmet'\n",
    "\n",
    "# Colors\n",
    "\n",
    "colors = {\n",
    "    '3F7E00': 'darkgreen',\n",
    "    '5BA829': 'green',\n",
    "    '9ACD32': 'lightgreen',\n",
    "    'CDD614': 'orange',\n",
    "    'FFBA00': 'red',\n",
    "    'CBCBC8': 'darkred',\n",
    "    'FF7800': 'darkred'\n",
    "}\n",
    "\n",
    "def color_name( color_code ):\n",
    "    return colors[color_code]\n",
    "\n",
    "def rename_columns( dataframe ):\n",
    "    df = dataframe.copy()\n",
    "    title = lambda x: inflection.titleize( x )\n",
    "    snakecase = lambda x: inflection.underscore( x )\n",
    "    spaces = lambda x: x.replace( ' ', '' )\n",
    "    cols_old = list( df.columns )\n",
    "    cols_old = list( map( title, cols_old ) )\n",
    "    cols_old = list( map( spaces, cols_old ) )\n",
    "    cols_new = list( map( snakecase, cols_old ) )\n",
    "    df.columns = cols_new\n",
    "    \n",
    "    return df\n",
    "\n",
    "# Your supervisor asked you to initially to consider all the restaurants only by one kind of cuisine\n",
    "\n",
    "# df[\"cuisines\"] = df.loc[:, \"cuisines\"].apply(lambda x: x.split(\",\")[0])\n",
    "\n",
    "# I've decide to convert the values to USD dollar, and add a new column with the value converted\n",
    "\n",
    "currencies = {\n",
    "    'Philippines':'PHP',\n",
    "    'Brazil':'BRL',\n",
    "    'Australia':'AUD',\n",
    "    'United States of America':'USD',\n",
    "    'Canada':'CAD',\n",
    "    'Singapure':'SGD',\n",
    "    'United Arab Emirates':'AED',\n",
    "    'India':'INR',\n",
    "    'Indonesia':'IDR',\n",
    "    'New Zeland':'NZD',\n",
    "    'England':'GBP',\n",
    "    'Qatar':'QAR',\n",
    "    'South Africa':'ZAR',\n",
    "    'Sri Lanka':'LKR',\n",
    "    'Turkey':'TRY'\n",
    "}\n",
    "\n",
    "def define_currency( currency ):    \n",
    "    return currencies[currency]\n",
    "\n",
    "# Create a CurrencyRates object\n",
    "\n",
    "c = CurrencyRates()\n",
    "\n",
    "# Example: Convert 100 USD to EUR\n",
    "\n",
    "usd_amount = 1000\n",
    "eur_amount = c.convert('EUR', 'USD', usd_amount)\n",
    "print(f\"{usd_amount} USD is equal to {eur_amount} EUR\")\n"
   ]
  },
  {
   "cell_type": "markdown",
   "id": "6a6d582d",
   "metadata": {},
   "source": [
    "# Checking Data"
   ]
  },
  {
   "cell_type": "code",
   "execution_count": null,
   "id": "dab5108d",
   "metadata": {
    "ExecuteTime": {
     "end_time": "2024-02-20T23:48:58.998966Z",
     "start_time": "2024-02-20T23:48:58.998966Z"
    },
    "scrolled": true
   },
   "outputs": [],
   "source": [
    "df = pd.read_csv( 'C:\\\\Users\\\\gabre\\\\DS IN PROGRESS\\\\DS_2023\\\\Ciclo_Basico\\\\FTC Analisando dados com Python\\\\FTC_student_project\\\\dataset\\\\zomato.csv' )\n",
    "df.head()\n"
   ]
  },
  {
   "cell_type": "code",
   "execution_count": null,
   "id": "658ba3a2",
   "metadata": {
    "ExecuteTime": {
     "end_time": "2024-02-20T23:48:59.002966Z",
     "start_time": "2024-02-20T23:48:59.002966Z"
    }
   },
   "outputs": [],
   "source": [
    "# Checking the data type\n",
    "\n",
    "df.dtypes\n"
   ]
  },
  {
   "cell_type": "code",
   "execution_count": null,
   "id": "0ed693cd",
   "metadata": {
    "ExecuteTime": {
     "end_time": "2024-02-20T23:48:59.005968Z",
     "start_time": "2024-02-20T23:48:59.005968Z"
    }
   },
   "outputs": [],
   "source": [
    "# Look for NaNs\n",
    "\n",
    "df.isna().sum()\n"
   ]
  },
  {
   "cell_type": "code",
   "execution_count": null,
   "id": "458785de",
   "metadata": {
    "ExecuteTime": {
     "end_time": "2024-02-20T23:48:59.012968Z",
     "start_time": "2024-02-20T23:48:59.012968Z"
    }
   },
   "outputs": [],
   "source": [
    "# Check the datset size, and check if we have duplicated restaurants\n",
    "\n",
    "print( df.shape ) \n",
    "print( df['Restaurant ID'].nunique() )\n"
   ]
  },
  {
   "cell_type": "markdown",
   "id": "98db744b",
   "metadata": {},
   "source": [
    "# Cleaning and modeling the data"
   ]
  },
  {
   "cell_type": "code",
   "execution_count": null,
   "id": "16ea761c",
   "metadata": {
    "ExecuteTime": {
     "end_time": "2024-02-20T23:48:59.016981Z",
     "start_time": "2024-02-20T23:48:59.016981Z"
    }
   },
   "outputs": [],
   "source": [
    "# Using the functions to prepare the columns below:\n",
    "\n",
    "# We could notice that there are duplicated Restaurants ID\n",
    "\n",
    "df = df.drop_duplicates()\n",
    "\n",
    "# Match the countries' name with their code\n",
    "\n",
    "df['Country Code'] = df['Country Code'].apply( country_name )\n",
    "\n",
    "# Standardize the currencies\n",
    "\n",
    "df['Currency'] = df['Country Code'].apply( define_currency )\n",
    "\n",
    "# Create a column with USD value converted\n",
    "\n",
    "df['Dollar USD Value'] = df.apply( lambda x: c.convert( x['Currency'], 'USD', x['Average Cost for two'] ), axis=1 )\n",
    "df['Dollar USD Value'] = df['Dollar USD Value'].round( 2 )\n",
    "\n",
    "# Create the price range\n",
    "\n",
    "df['Price range'] = df['Price range'].apply( price_type )\n",
    "\n",
    "# Match the colors with thir codes\n",
    "\n",
    "df['Rating color'] = df['Rating color'].apply( color_name )\n",
    "\n",
    "# Select just the first cuisine tha shows up in the line\n",
    "\n",
    "df['Cuisines'] = df.loc[:, 'Cuisines'].apply( lambda x: str(x).split( ',' )[0] )\n",
    "\n",
    "# Rename the columns\n",
    "\n",
    "df = rename_columns( df )\n",
    "df.head()\n"
   ]
  },
  {
   "cell_type": "code",
   "execution_count": null,
   "id": "450540f0",
   "metadata": {
    "ExecuteTime": {
     "end_time": "2024-02-20T23:48:59.019981Z",
     "start_time": "2024-02-20T23:48:59.019981Z"
    },
    "scrolled": true
   },
   "outputs": [],
   "source": [
    "print( df.shape )\n",
    "print( df.isna().sum() )\n",
    "print( df.dtypes )\n"
   ]
  },
  {
   "cell_type": "markdown",
   "id": "196eb3d9",
   "metadata": {},
   "source": [
    "## Descriptive Statistics"
   ]
  },
  {
   "cell_type": "code",
   "execution_count": null,
   "id": "39e8b1ef",
   "metadata": {
    "ExecuteTime": {
     "end_time": "2024-02-20T23:48:59.022968Z",
     "start_time": "2024-02-20T23:48:59.022968Z"
    }
   },
   "outputs": [],
   "source": [
    "# We are going to divide the columns into two datasets with different kind of variables ( Numeral and categorical )\n",
    "\n",
    "num_attributes = df.select_dtypes( include=['float64', 'int64'] )\n",
    "cat_attributes = df.select_dtypes( exclude=['float64', 'int64', 'datetime64[ns]'] )\n"
   ]
  },
  {
   "cell_type": "markdown",
   "id": "c493bc5b",
   "metadata": {},
   "source": [
    "### Numerical Attributes"
   ]
  },
  {
   "cell_type": "code",
   "execution_count": null,
   "id": "c2f3cd44",
   "metadata": {
    "ExecuteTime": {
     "end_time": "2024-02-20T23:48:59.026968Z",
     "start_time": "2024-02-20T23:48:59.026968Z"
    }
   },
   "outputs": [],
   "source": [
    "# Central tendency - mean and median\n",
    "\n",
    "ct1 = pd.DataFrame( num_attributes.apply( np.mean ) ).T\n",
    "ct2 = pd.DataFrame( num_attributes.apply( np.median ) ).T\n",
    "\n",
    "# Dispersion - std, min, max, range, skew, kurtosis\n",
    "\n",
    "d1 = pd.DataFrame( num_attributes.apply( np.std ) ).T\n",
    "d2 = pd.DataFrame( num_attributes.apply( min ) ).T\n",
    "d3 = pd.DataFrame( num_attributes.apply( max ) ).T\n",
    "d4 = pd.DataFrame( num_attributes.apply( lambda x: x.max() - x.min() ) ).T\n",
    "d5 = pd.DataFrame( num_attributes.apply( lambda x: x.skew() ) ).T\n",
    "d6 = pd.DataFrame( num_attributes.apply( lambda x: x.kurtosis() ) ).T\n",
    "\n",
    "# Concatenate\n",
    "\n",
    "m = pd.concat( [d2, d3, d4, ct1, ct2, d1, d5, d6] ).T.reset_index()\n",
    "m.columns = ['attributes', 'min', 'max', 'range', 'mean', 'median', 'std', 'skew', 'kurtosis']\n",
    "m_rounded = m.round(2)\n",
    "m_rounded\n"
   ]
  },
  {
   "cell_type": "code",
   "execution_count": null,
   "id": "fa1fa66a",
   "metadata": {
    "ExecuteTime": {
     "end_time": "2024-02-20T23:48:59.030970Z",
     "start_time": "2024-02-20T23:48:59.030970Z"
    }
   },
   "outputs": [],
   "source": [
    "# Extract unique values from the 'dollar_usd_value' column\n",
    "\n",
    "range_values = df['dollar_usd_value'].unique()\n",
    "print( range_values )\n",
    "\n",
    "# Sort the list in descending order\n",
    "\n",
    "range_values_sorted = sorted( range_values, reverse=erse=True )\n",
    "\n",
    "range_values_sorted\n"
   ]
  },
  {
   "cell_type": "markdown",
   "id": "d1f36496",
   "metadata": {
    "ExecuteTime": {
     "end_time": "2024-02-13T20:58:53.309342Z",
     "start_time": "2024-02-13T20:58:53.296551Z"
    }
   },
   "source": [
    "The list before showed that we have only one outlier with the value, which is already converted to USD dollar, 15932993.75, \n",
    "so I decided to breake this line value down to 1593.3, it is probably a typing error, but in any case it will be demonstrade to the CEO, after we got a return from\n",
    "the restaurant if the price is really that"
   ]
  },
  {
   "cell_type": "code",
   "execution_count": null,
   "id": "24443465",
   "metadata": {
    "ExecuteTime": {
     "end_time": "2024-02-20T23:48:59.034971Z",
     "start_time": "2024-02-20T23:48:59.034971Z"
    }
   },
   "outputs": [],
   "source": [
    "df.loc[df['dollar_usd_value'] == 15932993.75, 'dollar_usd_value'] = 1593.3\n",
    "df.loc[df['dollar_usd_value'] == 1593.3]\n"
   ]
  },
  {
   "cell_type": "markdown",
   "id": "3b1b9d95",
   "metadata": {},
   "source": [
    "### Categorical Attributes"
   ]
  },
  {
   "cell_type": "code",
   "execution_count": null,
   "id": "6c7f3ab5",
   "metadata": {
    "ExecuteTime": {
     "end_time": "2024-02-20T23:48:59.039969Z",
     "start_time": "2024-02-20T23:48:59.039969Z"
    }
   },
   "outputs": [],
   "source": [
    "# Check the range of the variables\n",
    "\n",
    "cat_attributes.apply( lambda x: x.unique().shape[0] )\n"
   ]
  },
  {
   "cell_type": "markdown",
   "id": "b777c7a2",
   "metadata": {
    "ExecuteTime": {
     "end_time": "2024-02-09T12:54:18.935352Z",
     "start_time": "2024-02-09T12:54:18.844872Z"
    }
   },
   "source": [
    "# CEO's Questions"
   ]
  },
  {
   "cell_type": "code",
   "execution_count": null,
   "id": "3d23301b",
   "metadata": {
    "ExecuteTime": {
     "end_time": "2024-02-20T23:48:59.042984Z",
     "start_time": "2024-02-20T23:48:59.042984Z"
    }
   },
   "outputs": [],
   "source": [
    "# Save a copy of df as CSV and start work with a checkpoint df1\n",
    "\n",
    "# Get today's date\n",
    "\n",
    "today_date = datetime.now().strftime(\"%d-%m-%Y\")\n",
    "\n",
    "# Define the filename\n",
    "\n",
    "filename = f\"zomato_treated_{today_date}.csv\"\n",
    "\n",
    "# Define the directory path\n",
    "\n",
    "directory_path = r\"C:\\\\Users\\\\gabre\\\\DS IN PROGRESS\\\\DS_2023\\\\Ciclo_Basico\\\\FTC Analisando dados com Python\\\\FTC_student_project\\\\dataset\"\n",
    "\n",
    "# Construct the full file path\n",
    "\n",
    "file_path = f\"{directory_path}\\\\{filename}\"\n",
    "\n",
    "# Save DataFrame to CSV\n",
    "\n",
    "df.to_csv( file_path, index=False )\n",
    "\n",
    "print(f\"DataFrame saved to: {file_path}\")\n",
    "\n",
    "# Checkpoint\n",
    "\n",
    "df1 = df.copy()\n"
   ]
  },
  {
   "cell_type": "markdown",
   "id": "624677ef",
   "metadata": {},
   "source": [
    "## General View"
   ]
  },
  {
   "cell_type": "code",
   "execution_count": null,
   "id": "f86f19b2",
   "metadata": {
    "ExecuteTime": {
     "end_time": "2024-02-20T23:48:59.046970Z",
     "start_time": "2024-02-20T23:48:59.046970Z"
    }
   },
   "outputs": [],
   "source": [
    "# How many unique Restaurants are registered?\n",
    "\n",
    "print( f'The number of unique restaurants is {df1[\"restaurant_id\"].nunique()}.' )\n",
    "\n",
    "# How many unique Countries are registered?\n",
    "\n",
    "print( f'The number of unique Countries is {df1[\"country_code\"].nunique()}.' )\n",
    "\n",
    "# How many unique Cities are registered?\n",
    "\n",
    "print( f'The number of unique Cities is {df1[\"city\"].nunique()}.' )\n",
    "      \n",
    "# What is the total of reviews?\n",
    "\n",
    "print( f'The total of reviews is {df1[\"votes\"].sum()}.' )\n",
    "\n",
    "# What is the total of Cuisines?\n",
    "\n",
    "print( f'The total of cuisines is {df1[\"cuisines\"].nunique()}.' )\n",
    "      "
   ]
  },
  {
   "cell_type": "markdown",
   "id": "7f742717",
   "metadata": {},
   "source": [
    "## Countries' View"
   ]
  },
  {
   "cell_type": "code",
   "execution_count": null,
   "id": "c1011110",
   "metadata": {
    "ExecuteTime": {
     "end_time": "2024-02-20T23:48:59.049971Z",
     "start_time": "2024-02-20T23:48:59.049971Z"
    }
   },
   "outputs": [],
   "source": [
    "# Which Country has more registered cities?\n",
    "\n",
    "q1 =  df1[['country_code', 'city']].groupby( 'country_code' ).nunique().sort_values( 'city', ascending=False ).reset_index()\n",
    "q1\n"
   ]
  },
  {
   "cell_type": "code",
   "execution_count": null,
   "id": "5383bdca",
   "metadata": {
    "ExecuteTime": {
     "end_time": "2024-02-20T23:48:59.052971Z",
     "start_time": "2024-02-20T23:48:59.052971Z"
    }
   },
   "outputs": [],
   "source": [
    "# Which Country has more restaurants?\n",
    "\n",
    "q2 =  df1[['country_code', 'restaurant_id']].groupby( 'country_code' ).count().sort_values( 'restaurant_id', ascending=False ).reset_index()\n",
    "q2\n"
   ]
  },
  {
   "cell_type": "code",
   "execution_count": null,
   "id": "3f708c45",
   "metadata": {
    "ExecuteTime": {
     "end_time": "2024-02-20T23:48:59.057972Z",
     "start_time": "2024-02-20T23:48:59.057972Z"
    }
   },
   "outputs": [],
   "source": [
    "# Which is the country with more restaurants where price is equal to 4?\n",
    "\n",
    "q3 = ( df1.loc[df1['price_range'] == 'gourmet', :][['country_code','restaurant_id']]\n",
    "                                                  .groupby( 'country_code' ).count().sort_values( 'restaurant_id', ascending=False ).reset_index() )\n",
    "q3\n"
   ]
  },
  {
   "cell_type": "code",
   "execution_count": null,
   "id": "c40fcea8",
   "metadata": {
    "ExecuteTime": {
     "end_time": "2024-02-20T23:48:59.061973Z",
     "start_time": "2024-02-20T23:48:59.061973Z"
    }
   },
   "outputs": [],
   "source": [
    "# Which country has more kind of cuisines?\n",
    "\n",
    "q4 = df1[['country_code', 'cuisines']].groupby( 'country_code' ).nunique().sort_values( 'cuisines', ascending=False ).reset_index()\n",
    "q4\n"
   ]
  },
  {
   "cell_type": "code",
   "execution_count": null,
   "id": "d2329653",
   "metadata": {
    "ExecuteTime": {
     "end_time": "2024-02-20T23:48:59.066971Z",
     "start_time": "2024-02-20T23:48:59.065974Z"
    }
   },
   "outputs": [],
   "source": [
    "# Which country has more reviews?\n",
    "\n",
    "q5 = df1[['country_code', 'votes']].groupby( 'country_code' ).sum().sort_values( 'votes', ascending=False ).reset_index()\n",
    "q5\n"
   ]
  },
  {
   "cell_type": "code",
   "execution_count": null,
   "id": "f88c4b0b",
   "metadata": {
    "ExecuteTime": {
     "end_time": "2024-02-20T23:48:59.069972Z",
     "start_time": "2024-02-20T23:48:59.069972Z"
    }
   },
   "outputs": [],
   "source": [
    "# Which country has more delivery food service?\n",
    "\n",
    "q6 = ( df1.loc[df1['is_delivering_now'] == 1, :][['country_code', 'is_delivering_now']]\n",
    "                                                .groupby( 'country_code' ).count().sort_values( 'is_delivering_now', ascending=False ).reset_index() )\n",
    "q6\n"
   ]
  },
  {
   "cell_type": "code",
   "execution_count": null,
   "id": "2cb4857f",
   "metadata": {
    "ExecuteTime": {
     "end_time": "2024-02-20T23:48:59.072977Z",
     "start_time": "2024-02-20T23:48:59.072977Z"
    }
   },
   "outputs": [],
   "source": [
    "# Which country has more quantity of table booking?\n",
    "\n",
    "q7 = ( df1.loc[df1['has_table_booking'] == 1, :][['country_code', 'has_table_booking']]\n",
    "                                                .groupby( 'country_code' ).count().sort_values( 'has_table_booking', ascending=False ).reset_index() )\n",
    "q7\n"
   ]
  },
  {
   "cell_type": "code",
   "execution_count": null,
   "id": "6069b68f",
   "metadata": {
    "ExecuteTime": {
     "end_time": "2024-02-20T23:48:59.078974Z",
     "start_time": "2024-02-20T23:48:59.078974Z"
    },
    "scrolled": true
   },
   "outputs": [],
   "source": [
    "# Which country has more review in average?\n",
    "\n",
    "q8 = df1[['country_code', 'votes']].groupby( 'country_code' ).mean().sort_values( 'votes', ascending=False ).reset_index()\n",
    "q8.round( 2 )\n"
   ]
  },
  {
   "cell_type": "code",
   "execution_count": null,
   "id": "835ba944",
   "metadata": {
    "ExecuteTime": {
     "end_time": "2024-02-20T23:48:59.082973Z",
     "start_time": "2024-02-20T23:48:59.082973Z"
    },
    "scrolled": true
   },
   "outputs": [],
   "source": [
    "# Which country has the highest average review?\n",
    "\n",
    "q9 = df1[['country_code', 'aggregate_rating']].groupby( 'country_code' ).mean().sort_values( 'aggregate_rating', ascending=False ).reset_index()\n",
    "q9.round( 2 )\n"
   ]
  },
  {
   "cell_type": "code",
   "execution_count": null,
   "id": "7326250a",
   "metadata": {
    "ExecuteTime": {
     "end_time": "2024-02-20T23:48:59.085981Z",
     "start_time": "2024-02-20T23:48:59.085981Z"
    }
   },
   "outputs": [],
   "source": [
    "# Which country has the lowest average review?\n",
    "\n",
    "q10 = df1[['country_code', 'aggregate_rating']].groupby( 'country_code' ).mean().sort_values( 'aggregate_rating', ascending=True ).reset_index()\n",
    "q10.round( 2 )\n"
   ]
  },
  {
   "cell_type": "code",
   "execution_count": null,
   "id": "9237ad4e",
   "metadata": {
    "ExecuteTime": {
     "end_time": "2024-02-20T23:48:59.089974Z",
     "start_time": "2024-02-20T23:48:59.089974Z"
    },
    "scrolled": true
   },
   "outputs": [],
   "source": [
    "# Which is the average price for two dishes?\n",
    "\n",
    "q11 = df1[['country_code', 'average_cost_for_two']].groupby( 'country_code' ).mean().sort_values( 'average_cost_for_two', ascending=True ).reset_index()\n",
    "q11.round( 2 )\n",
    "\n",
    "# OBs: The cost is in their local currency, to make a real comparison it must be onverted to an unique one, like dollar for example\n"
   ]
  },
  {
   "cell_type": "code",
   "execution_count": null,
   "id": "25894bc4",
   "metadata": {
    "ExecuteTime": {
     "end_time": "2024-02-20T23:48:59.092975Z",
     "start_time": "2024-02-20T23:48:59.092975Z"
    }
   },
   "outputs": [],
   "source": [
    "# Now considering USD dollar as pattern\n",
    "\n",
    "q11 = df1[['country_code', 'dollar_usd_value']].groupby( 'country_code' ).mean().sort_values( 'dollar_usd_value', ascending=True ).reset_index()\n",
    "q11.round( 2 )\n"
   ]
  },
  {
   "cell_type": "markdown",
   "id": "9f37d7b3",
   "metadata": {},
   "source": [
    "## Cities' View"
   ]
  },
  {
   "cell_type": "code",
   "execution_count": null,
   "id": "0a070e40",
   "metadata": {
    "ExecuteTime": {
     "end_time": "2024-02-20T23:48:59.095974Z",
     "start_time": "2024-02-20T23:48:59.095974Z"
    }
   },
   "outputs": [],
   "source": [
    "# Which city has more restaurants?\n",
    "\n",
    "q12 = df1[['city', 'restaurant_id']].groupby( 'city' ).count().sort_values( 'restaurant_id', ascending=False ).reset_index()\n",
    "q12.head( 20 )\n"
   ]
  },
  {
   "cell_type": "code",
   "execution_count": null,
   "id": "920a2c14",
   "metadata": {
    "ExecuteTime": {
     "end_time": "2024-02-20T23:48:59.098974Z",
     "start_time": "2024-02-20T23:48:59.098974Z"
    },
    "scrolled": true
   },
   "outputs": [],
   "source": [
    "# Which city has more restaurant with an average review higher than 4?\n",
    "\n",
    "q13 = ( df1.loc[df1['aggregate_rating'] > 4, :][['city', 'restaurant_id', 'aggregate_rating']].groupby( 'city' )\n",
    "       .agg( {'restaurant_id': 'count', 'aggregate_rating': 'mean'} ).sort_values( 'restaurant_id', ascending=False ).reset_index() )\n",
    "q13.columns = ['city', 'restaurant_id', 'aggregate_mean_rating']\n",
    "q13.round( 2 ).head( 20 )\n"
   ]
  },
  {
   "cell_type": "code",
   "execution_count": null,
   "id": "b3fd1551",
   "metadata": {
    "ExecuteTime": {
     "end_time": "2024-02-20T23:48:59.101975Z",
     "start_time": "2024-02-20T23:48:59.101975Z"
    }
   },
   "outputs": [],
   "source": [
    "q13 = df1.loc[df1['aggregate_rating'] > 4, :][['city', 'country_code', 'restaurant_id']]\n",
    "q13 = q13.groupby( ['city', 'country_code'] ).count().reset_index()\n",
    "q13"
   ]
  },
  {
   "cell_type": "code",
   "execution_count": null,
   "id": "695ed41d",
   "metadata": {
    "ExecuteTime": {
     "end_time": "2024-02-20T23:48:59.105976Z",
     "start_time": "2024-02-20T23:48:59.105976Z"
    },
    "scrolled": true
   },
   "outputs": [],
   "source": [
    "# Which city has more restaurants with an average review lower than 2.5?\n",
    "\n",
    "q14 = ( df1.loc[ ( df1['aggregate_rating'] < 2.5) & ( df1['votes'] >= 1 ), :][['city', 'restaurant_id', 'aggregate_rating', 'votes']].groupby( 'city' )\n",
    "       .agg( {'restaurant_id':'count', 'aggregate_rating':'mean', 'votes':'first'} ).sort_values( 'restaurant_id', ascending=False ).reset_index() )\n",
    "q14.columns = ['city', 'restaurant_id', 'aggregate_mean_rating', 'votes']\n",
    "q14.head( 10 ).round( 2 )\n"
   ]
  },
  {
   "cell_type": "code",
   "execution_count": null,
   "id": "3f6bfaf9",
   "metadata": {
    "ExecuteTime": {
     "end_time": "2024-02-20T23:48:59.109976Z",
     "start_time": "2024-02-20T23:48:59.108974Z"
    },
    "scrolled": true
   },
   "outputs": [],
   "source": [
    "# Which city has the most expensive average dish for two?\n",
    "\n",
    "q15 = df1[['city', 'average_cost_for_two']].groupby( 'city' ).mean().sort_values( 'average_cost_for_two', ascending=False ).reset_index()\n",
    "q15.round( 2 )\n",
    "\n",
    "# again, when it comes to price, we'll need to convert to a pattern currency to be able to fairly analyze it\n"
   ]
  },
  {
   "cell_type": "code",
   "execution_count": null,
   "id": "fe75da42",
   "metadata": {
    "ExecuteTime": {
     "end_time": "2024-02-20T23:48:59.111975Z",
     "start_time": "2024-02-20T23:48:59.111975Z"
    }
   },
   "outputs": [],
   "source": [
    "# Consider dollar value\n",
    "\n",
    "q15 = df1[['city', 'dollar_usd_value']].groupby( 'city' ).mean().sort_values( 'dollar_usd_value', ascending=False ).reset_index()\n",
    "q15.round( 2 )\n"
   ]
  },
  {
   "cell_type": "code",
   "execution_count": null,
   "id": "1a778e9d",
   "metadata": {
    "ExecuteTime": {
     "end_time": "2024-02-20T23:48:59.115975Z",
     "start_time": "2024-02-20T23:48:59.115975Z"
    }
   },
   "outputs": [],
   "source": [
    "# Which city has more types of cuisines?\n",
    "\n",
    "q16 = df1[['city', 'cuisines']].groupby( 'city' ).nunique().sort_values( 'cuisines', ascending=False ).reset_index()\n",
    "q16.head( 10 )\n"
   ]
  },
  {
   "cell_type": "code",
   "execution_count": null,
   "id": "7a67041b",
   "metadata": {
    "ExecuteTime": {
     "end_time": "2024-02-20T23:48:59.118976Z",
     "start_time": "2024-02-20T23:48:59.118976Z"
    },
    "scrolled": true
   },
   "outputs": [],
   "source": [
    "# Which city has more booking table service?\n",
    "\n",
    "q17 = df1.loc[df1['has_table_booking'] == 1, :][['city', 'restaurant_id']].groupby( 'city' ).count().sort_values( 'restaurant_id', ascending=False ).reset_index()\n",
    "q17.head( 10 )\n"
   ]
  },
  {
   "cell_type": "code",
   "execution_count": null,
   "id": "e113dff6",
   "metadata": {
    "ExecuteTime": {
     "end_time": "2024-02-20T23:48:59.121976Z",
     "start_time": "2024-02-20T23:48:59.121976Z"
    },
    "scrolled": true
   },
   "outputs": [],
   "source": [
    "# Which city has more delivery service?\n",
    "\n",
    "q18 = df1.loc[df1['is_delivering_now'] == 1, :][['city', 'restaurant_id']].groupby( 'city' ).count().sort_values( 'restaurant_id', ascending=False ).reset_index()\n",
    "q18.head( 10 )\n"
   ]
  },
  {
   "cell_type": "code",
   "execution_count": null,
   "id": "e08fedfc",
   "metadata": {
    "ExecuteTime": {
     "end_time": "2024-02-20T23:48:59.125977Z",
     "start_time": "2024-02-20T23:48:59.125977Z"
    }
   },
   "outputs": [],
   "source": [
    "# Which city has more online ordering service?\n",
    "\n",
    "q19 = df1.loc[df1['has_online_delivery'] == 1, :][['city', 'restaurant_id']].groupby( 'city' ).count().sort_values( 'restaurant_id', ascending=False ).reset_index()\n",
    "q19.head( 10 )\n"
   ]
  },
  {
   "cell_type": "markdown",
   "id": "e78cb053",
   "metadata": {},
   "source": [
    "## Restaurants' View"
   ]
  },
  {
   "cell_type": "code",
   "execution_count": null,
   "id": "077d42c9",
   "metadata": {
    "ExecuteTime": {
     "end_time": "2024-02-20T23:48:59.128976Z",
     "start_time": "2024-02-20T23:48:59.128976Z"
    }
   },
   "outputs": [],
   "source": [
    "# Which Restaurant has more reviews?\n",
    "\n",
    "q20 = df1[['restaurant_id', 'restaurant_name', 'votes']].groupby( ['restaurant_id'] ).sum().sort_values( 'votes', ascending=False ).reset_index()\n",
    "q20.head( 10 )\n"
   ]
  },
  {
   "cell_type": "code",
   "execution_count": null,
   "id": "abdaef5f",
   "metadata": {
    "ExecuteTime": {
     "end_time": "2024-02-20T23:48:59.131977Z",
     "start_time": "2024-02-20T23:48:59.131977Z"
    },
    "scrolled": true
   },
   "outputs": [],
   "source": [
    "# Which restaurant has the highest average review?\n",
    "\n",
    "q21 = df1[['restaurant_name', 'restaurant_id', 'aggregate_rating']].groupby( 'restaurant_name' ).agg( {'restaurant_id': 'first', 'aggregate_rating': 'mean'} )\n",
    "q21 = q21.sort_values(by=['aggregate_rating', 'restaurant_id'], ascending=[False, True]).reset_index()\n",
    "q21.head(10)\n"
   ]
  },
  {
   "cell_type": "code",
   "execution_count": null,
   "id": "94087857",
   "metadata": {
    "ExecuteTime": {
     "end_time": "2024-02-20T23:48:59.135980Z",
     "start_time": "2024-02-20T23:48:59.135980Z"
    }
   },
   "outputs": [],
   "source": [
    "# Which restaurant has the most expensive dish for two?\n",
    "\n",
    "q22 = df1[['restaurant_name', 'restaurant_id', 'average_cost_for_two']].sort_values( 'average_cost_for_two', ascending=False )\n",
    "q22.head( 10 )\n"
   ]
  },
  {
   "cell_type": "code",
   "execution_count": null,
   "id": "21128dfc",
   "metadata": {
    "ExecuteTime": {
     "end_time": "2024-02-20T23:48:59.138977Z",
     "start_time": "2024-02-20T23:48:59.138977Z"
    }
   },
   "outputs": [],
   "source": [
    "# Considering USD dollar\n",
    "\n",
    "q22 = df1[['restaurant_name', 'restaurant_id', 'dollar_usd_value']].sort_values( 'dollar_usd_value', ascending=False )\n",
    "q22.head( 10 )\n"
   ]
  },
  {
   "cell_type": "code",
   "execution_count": null,
   "id": "b3b58667",
   "metadata": {
    "ExecuteTime": {
     "end_time": "2024-02-20T23:48:59.143979Z",
     "start_time": "2024-02-20T23:48:59.143979Z"
    },
    "scrolled": true
   },
   "outputs": [],
   "source": [
    "# Which brazilian cuisine restaurant has the lowest average review?\n",
    "\n",
    "q23 = ( df1.loc[( df1['cuisines'] == 'Brazilian') & ( df1['votes'] >= 1 ), :][['restaurant_id', 'restaurant_name', 'aggregate_rating']]\n",
    "       .sort_values( by=['aggregate_rating', 'restaurant_id'], ascending=[True, True] ).reset_index() )\n",
    "q23.head( 20 )\n"
   ]
  },
  {
   "cell_type": "code",
   "execution_count": null,
   "id": "f2aa4458",
   "metadata": {
    "ExecuteTime": {
     "end_time": "2024-02-20T23:48:59.146979Z",
     "start_time": "2024-02-20T23:48:59.146979Z"
    },
    "scrolled": true
   },
   "outputs": [],
   "source": [
    "# Now which brazilian restaurant that has brazilian cuisine is the best reviewed?\n",
    "\n",
    "q24 = ( df1.loc[( df1['country_code'] == 'Brazil' ) & ( df1['cuisines'] == 'Brazilian' ),:][['restaurant_id', 'restaurant_name', 'aggregate_rating']]\n",
    "       .sort_values( by=['aggregate_rating', 'restaurant_id'], ascending=[False, True] ).reset_index() )\n",
    "q24.head( 10 )\n"
   ]
  },
  {
   "cell_type": "code",
   "execution_count": null,
   "id": "d42bd887",
   "metadata": {
    "ExecuteTime": {
     "end_time": "2024-02-20T23:48:59.149980Z",
     "start_time": "2024-02-20T23:48:59.149980Z"
    }
   },
   "outputs": [],
   "source": [
    "# q25 The restaurants that has online ordering have in average more votes?\n",
    "\n",
    "print( f\"The average votes of restaurants with online service is {df1.loc[df1['has_online_delivery'] == 1, :]['votes'].mean():.2f}.\" )\n",
    "print( f\" The average votes of restaurants without online service is {df1.loc[df1['has_online_delivery'] == 0, :]['votes'].mean():.2f}.\" )\n"
   ]
  },
  {
   "cell_type": "code",
   "execution_count": null,
   "id": "74b170de",
   "metadata": {
    "ExecuteTime": {
     "end_time": "2024-02-20T23:48:59.153980Z",
     "start_time": "2024-02-20T23:48:59.153980Z"
    }
   },
   "outputs": [],
   "source": [
    "# q26 The restaurants which has booking service, are also the ones with more expensive dishe for two?\n",
    "\n",
    "print( f\"The average price for two dishes in restaurants with booking service is {df1.loc[df1['has_table_booking'] == 1, :]['dollar_usd_value'].mean():.2f}\" )\n",
    "print( f\"The average price for two dishes in restaurants without booking service is {df1.loc[df1['has_table_booking'] == 0, :]['dollar_usd_value'].mean():.2f}\" )\n"
   ]
  },
  {
   "cell_type": "code",
   "execution_count": null,
   "id": "241854d6",
   "metadata": {
    "ExecuteTime": {
     "end_time": "2024-02-20T23:48:59.156979Z",
     "start_time": "2024-02-20T23:48:59.156979Z"
    }
   },
   "outputs": [],
   "source": [
    "# q27 The Japnese cuisene restaurants in USA has a mean price for two dishes higher than the steakhouses?\n",
    "\n",
    "print( f\"The average price for two dishes in Japanese restaurants in USA is {df1.loc[df1['cuisines'] == 'Japanese', :]['dollar_usd_value'].mean():.2f}\" )\n",
    "print( f\"The average price for two dishes in BBQ restaurants in USA is {df1.loc[df1['cuisines'] == 'BBQ', :]['dollar_usd_value'].mean():.2f}\" )\n"
   ]
  },
  {
   "cell_type": "markdown",
   "id": "abc0d788",
   "metadata": {},
   "source": [
    "## Cuisines' View"
   ]
  },
  {
   "cell_type": "code",
   "execution_count": null,
   "id": "d934ed5d",
   "metadata": {
    "ExecuteTime": {
     "end_time": "2024-02-20T23:48:59.159984Z",
     "start_time": "2024-02-20T23:48:59.159984Z"
    }
   },
   "outputs": [],
   "source": [
    "# Among the restaurants with italian cuisine, which one has the highest aggregate rating?\n",
    "\n",
    "q28 = ( df1.loc[df1['cuisines'] == 'Italian', :][['restaurant_id', 'restaurant_name', 'aggregate_rating']]\n",
    "       .sort_values( by=['aggregate_rating', 'restaurant_id'], ascending=[False, True] ).reset_index( drop=True ) )\n",
    "q28.head( 20 )\n"
   ]
  },
  {
   "cell_type": "code",
   "execution_count": null,
   "id": "ecf194c4",
   "metadata": {
    "ExecuteTime": {
     "end_time": "2024-02-20T23:48:59.163982Z",
     "start_time": "2024-02-20T23:48:59.163982Z"
    },
    "scrolled": true
   },
   "outputs": [],
   "source": [
    "# Among the restaurants with italian cuisine, which one has the lowest aggregate rating?\n",
    "\n",
    "q29 = ( df1.loc[( df1['cuisines'] == 'Italian' ) & ( df1['votes'] >= 1 ), :][['restaurant_id', 'restaurant_name', 'aggregate_rating']]\n",
    "       .sort_values( by=['aggregate_rating', 'restaurant_id'], ascending=[True, True] ).reset_index( drop=True ) )\n",
    "q29.head( 20 )\n"
   ]
  },
  {
   "cell_type": "code",
   "execution_count": null,
   "id": "ca01523a",
   "metadata": {
    "ExecuteTime": {
     "end_time": "2024-02-20T23:48:59.166982Z",
     "start_time": "2024-02-20T23:48:59.166982Z"
    }
   },
   "outputs": [],
   "source": [
    "# Among the restaurants with American cuisine, which one has the highest aggregate rating?\n",
    "\n",
    "q30 = ( df1.loc[df1['cuisines'] == 'American', :][['restaurant_id', 'restaurant_name', 'aggregate_rating']]\n",
    "       .sort_values( by=['aggregate_rating', 'restaurant_id'], ascending=[False, True] ).reset_index( drop=True ) )\n",
    "q30.head( 20 )\n"
   ]
  },
  {
   "cell_type": "code",
   "execution_count": null,
   "id": "4262525f",
   "metadata": {
    "ExecuteTime": {
     "end_time": "2024-02-20T23:48:59.169979Z",
     "start_time": "2024-02-20T23:48:59.169979Z"
    },
    "scrolled": true
   },
   "outputs": [],
   "source": [
    "# Among the restaurants with American cuisine, which one has the lowest aggregate rating?\n",
    "\n",
    "q31 = ( df1.loc[( df1['cuisines'] == 'American' ) & ( df1['votes'] >= 1 ), :][['restaurant_id', 'restaurant_name', 'aggregate_rating']]\n",
    "       .sort_values( by=['aggregate_rating', 'restaurant_id'], ascending=[True, True] ).reset_index( drop=True ) )\n",
    "q31.head( 20 )\n"
   ]
  },
  {
   "cell_type": "code",
   "execution_count": null,
   "id": "e56dabc4",
   "metadata": {
    "ExecuteTime": {
     "end_time": "2024-02-20T23:48:59.173980Z",
     "start_time": "2024-02-20T23:48:59.173980Z"
    }
   },
   "outputs": [],
   "source": [
    "# Among the restaurants with Arab cuisine, which one has the highest aggregate rating?\n",
    "\n",
    "q32 = ( df1.loc[df1['cuisines'] == 'Arabian', :][['restaurant_id', 'restaurant_name', 'aggregate_rating']]\n",
    "       .sort_values( by=['aggregate_rating', 'restaurant_id'], ascending=[False, True] ).reset_index( drop=True ) )\n",
    "q32.head( 20 )\n"
   ]
  },
  {
   "cell_type": "code",
   "execution_count": null,
   "id": "e0a40df0",
   "metadata": {
    "ExecuteTime": {
     "end_time": "2024-02-20T23:48:59.176981Z",
     "start_time": "2024-02-20T23:48:59.176981Z"
    },
    "scrolled": true
   },
   "outputs": [],
   "source": [
    "# Among the restaurants with Arab cuisine, which one has the lowest aggregate rating?\n",
    "\n",
    "q33 = ( df1.loc[( df1['cuisines'] == 'Arabian' ) & ( df1['votes'] >= 1 ), :][['restaurant_id', 'restaurant_name', 'aggregate_rating']]\n",
    "       .sort_values( by=['aggregate_rating', 'restaurant_id'], ascending=[True, True] ).reset_index( drop=True ) )\n",
    "q33.head( 20 )\n"
   ]
  },
  {
   "cell_type": "code",
   "execution_count": null,
   "id": "6f6f2f34",
   "metadata": {
    "ExecuteTime": {
     "end_time": "2024-02-20T23:48:59.179981Z",
     "start_time": "2024-02-20T23:48:59.179981Z"
    }
   },
   "outputs": [],
   "source": [
    "# Among the restaurants with Japanese cuisine, which one has the highest aggregate rating?\n",
    "\n",
    "q34 = ( df1.loc[df1['cuisines'] == 'Japanese', :][['restaurant_id', 'restaurant_name', 'aggregate_rating']]\n",
    "       .sort_values( by=['aggregate_rating', 'restaurant_id'], ascending=[False, True] ).reset_index( drop=True ) )\n",
    "q34.head( 20 )\n"
   ]
  },
  {
   "cell_type": "code",
   "execution_count": null,
   "id": "6c931e2c",
   "metadata": {
    "ExecuteTime": {
     "end_time": "2024-02-20T23:48:59.182981Z",
     "start_time": "2024-02-20T23:48:59.182981Z"
    },
    "scrolled": true
   },
   "outputs": [],
   "source": [
    "# Among the restaurants with Japanese cuisine, which one has the lowest aggregate rating?\n",
    "\n",
    "q35 = ( df1.loc[( df1['cuisines'] == 'Japanese' ) & ( df1['votes'] >= 1 ), :][['restaurant_id', 'restaurant_name', 'aggregate_rating']]\n",
    "       .sort_values( by=['aggregate_rating', 'restaurant_id'], ascending=[True, True] ).reset_index( drop=True ) )\n",
    "q35.head( 20 )\n"
   ]
  },
  {
   "cell_type": "code",
   "execution_count": null,
   "id": "f2dea139",
   "metadata": {
    "ExecuteTime": {
     "end_time": "2024-02-20T23:48:59.186981Z",
     "start_time": "2024-02-20T23:48:59.186981Z"
    },
    "scrolled": true
   },
   "outputs": [],
   "source": [
    "# Among the restaurants with Home-made cuisine, which one has the highest aggregate rating?\n",
    "\n",
    "q36 = ( df1.loc[df1['cuisines'] == 'Home-made', :][['restaurant_id', 'restaurant_name', 'aggregate_rating']]\n",
    "       .sort_values( by=['aggregate_rating', 'restaurant_id'], ascending=[False, True] ).reset_index( drop=True ) )\n",
    "q36.head( 20 )\n"
   ]
  },
  {
   "cell_type": "code",
   "execution_count": null,
   "id": "d8645367",
   "metadata": {
    "ExecuteTime": {
     "end_time": "2024-02-20T23:48:59.189982Z",
     "start_time": "2024-02-20T23:48:59.189982Z"
    },
    "scrolled": true
   },
   "outputs": [],
   "source": [
    "# Which cuisine has the highest price for a dish for two people?\n",
    "\n",
    "q37 = df1[['cuisines', 'dollar_usd_value']].groupby( 'cuisines' ).mean().round( 2 ).sort_values( 'dollar_usd_value', ascending=False ).reset_index()\n",
    "q37.head( 20 )\n"
   ]
  },
  {
   "cell_type": "code",
   "execution_count": null,
   "id": "477921d4",
   "metadata": {
    "ExecuteTime": {
     "end_time": "2024-02-20T23:48:59.194982Z",
     "start_time": "2024-02-20T23:48:59.193996Z"
    }
   },
   "outputs": [],
   "source": [
    "# Which cuisine has the highest aggregate rating?\n",
    "\n",
    "q38 = df1[['cuisines', 'aggregate_rating']].groupby( 'cuisines' ).mean().round( 2 ).sort_values( 'aggregate_rating', ascending=False ).reset_index()\n",
    "q38.head( 20 )\n"
   ]
  },
  {
   "cell_type": "code",
   "execution_count": null,
   "id": "85fa9f14",
   "metadata": {
    "ExecuteTime": {
     "end_time": "2024-02-20T23:48:59.197983Z",
     "start_time": "2024-02-20T23:48:59.197983Z"
    }
   },
   "outputs": [],
   "source": [
    "# Which cuisine accept more online service?\n",
    "\n",
    "q39 = ( df1.loc[df1['has_online_delivery'] == 1, :][['cuisines', 'has_online_delivery']]\n",
    "       .groupby( 'cuisines' ).count().sort_values( 'has_online_delivery', ascending=False ).reset_index() )\n",
    "q39\n"
   ]
  },
  {
   "cell_type": "code",
   "execution_count": null,
   "id": "acc8e021",
   "metadata": {},
   "outputs": [],
   "source": []
  }
 ],
 "metadata": {
  "kernelspec": {
   "display_name": "Python 3 (ipykernel)",
   "language": "python",
   "name": "python3"
  },
  "language_info": {
   "codemirror_mode": {
    "name": "ipython",
    "version": 3
   },
   "file_extension": ".py",
   "mimetype": "text/x-python",
   "name": "python",
   "nbconvert_exporter": "python",
   "pygments_lexer": "ipython3",
   "version": "3.8.18"
  },
  "toc": {
   "base_numbering": 1,
   "nav_menu": {},
   "number_sections": true,
   "sideBar": true,
   "skip_h1_title": false,
   "title_cell": "Table of Contents",
   "title_sidebar": "Contents",
   "toc_cell": false,
   "toc_position": {},
   "toc_section_display": true,
   "toc_window_display": false
  },
  "varInspector": {
   "cols": {
    "lenName": 16,
    "lenType": 16,
    "lenVar": 40
   },
   "kernels_config": {
    "python": {
     "delete_cmd_postfix": "",
     "delete_cmd_prefix": "del ",
     "library": "var_list.py",
     "varRefreshCmd": "print(var_dic_list())"
    },
    "r": {
     "delete_cmd_postfix": ") ",
     "delete_cmd_prefix": "rm(",
     "library": "var_list.r",
     "varRefreshCmd": "cat(var_dic_list()) "
    }
   },
   "types_to_exclude": [
    "module",
    "function",
    "builtin_function_or_method",
    "instance",
    "_Feature"
   ],
   "window_display": false
  }
 },
 "nbformat": 4,
 "nbformat_minor": 5
}
